{
  "nbformat": 4,
  "nbformat_minor": 0,
  "metadata": {
    "colab": {
      "provenance": [],
      "toc_visible": true,
      "authorship_tag": "ABX9TyO83nSo3v1cP5cS7ow2WUHt",
      "include_colab_link": true
    },
    "kernelspec": {
      "name": "python3",
      "display_name": "Python 3"
    },
    "language_info": {
      "name": "python"
    }
  },
  "cells": [
    {
      "cell_type": "markdown",
      "metadata": {
        "id": "view-in-github",
        "colab_type": "text"
      },
      "source": [
        "<a href=\"https://colab.research.google.com/github/riveracross/economy_open/blob/main/houseaccount.ipynb\" target=\"_parent\"><img src=\"https://colab.research.google.com/assets/colab-badge.svg\" alt=\"Open In Colab\"/></a>"
      ]
    },
    {
      "cell_type": "code",
      "source": [
        "import gspread\n",
        "print(gspread.__version__)\n"
      ],
      "metadata": {
        "colab": {
          "base_uri": "https://localhost:8080/"
        },
        "id": "xi3fCwZlGpho",
        "outputId": "089f10b6-263e-423c-a597-bf80d5749bae"
      },
      "execution_count": null,
      "outputs": [
        {
          "output_type": "stream",
          "name": "stdout",
          "text": [
            "6.0.2\n"
          ]
        }
      ]
    },
    {
      "cell_type": "markdown",
      "source": [
        "# 2024_expenditureコード"
      ],
      "metadata": {
        "id": "GB9_O92XQBlN"
      }
    },
    {
      "cell_type": "code",
      "source": [
        "###2024_expenditureコード###\n",
        "###Ver.01###\n",
        "###2024-08-30###\n",
        "\n",
        "from warnings import resetwarnings\n",
        "from re import I\n",
        "\n",
        "# 認証のためのコード\n",
        "#参考：https://qiita.com/FrozenVoice/items/d9cc04b3f63f4b2d49c2\n",
        "from google.colab import auth\n",
        "auth.authenticate_user()\n",
        "\n",
        "import gspread\n",
        "from google.auth import default\n",
        "creds, _ = default()\n",
        "\n",
        "gc = gspread.authorize(creds)\n",
        "\n",
        "houseaccount ='[【ここにGoogleDriveに保存されているスプレッドシート（Houseaccount_Sheet）のURLを挿入する】]'\n",
        "\n",
        "#worksheetの2024_houseaccountを選ぶ　番号では(0)となる\n",
        "worksheet = gc.open_by_url(houseaccount).get_worksheet(0)\n",
        "\n",
        "import pandas as pd\n",
        "\n",
        "#[1:]で２行目からをデータ、[0]で１行目をindexに指定している。\n",
        "#参考：https://note.com/kohaku935/n/nc13bcd11632d\n",
        "df = pd.DataFrame(worksheet.get_all_values()[1:], columns=worksheet.get_all_values()[0])\n",
        "df[\"Date\"] = pd.to_datetime(df[\"Date\"])\n",
        "\n",
        "#DateのSeriesから年月のSeriesを作成 object型に変化している！\n",
        "df = df.rename({\"Date\":\"YearMonth\"},axis=\"columns\")\n",
        "Date_series =df[\"YearMonth\"].dt.strftime(\"%Y年%m月\")\n",
        "#print(YearMonth_series)\n",
        "#LeftItemのSeriesを作成\n",
        "LItem_series = df[\"LeftItem\"]\n",
        "#print(LItem_series)\n",
        "#AmountのSeriesを作成\n",
        "df[\"Amount\"] = df[\"Amount\"].str.replace(',','')\n",
        "Amount_series = df[\"Amount\"].astype(int)\n",
        "#print(Amount_series)\n",
        "#RightItemのSeriesを作成\n",
        "RItem_series = df[\"RightItem\"]\n",
        "#RemarkのSeriesを作成\n",
        "Remark_series = df[\"Remark\"]\n",
        "#各Seriesを連結させてDataFrameを作成\n",
        "df_alldata = pd.concat([LItem_series,Date_series,Amount_series,RItem_series,Remark_series],axis=1)\n",
        "#print(df)\n",
        "\n",
        "#df_alldataを使って、df_expenditureデータの作成\n",
        "df = df_alldata\n",
        "\n",
        "#不要な行を削除\n",
        "##LeftItemのうちで不要な科目のリストを除外\n",
        "##参考：https://nomuotorinko.com/python_isin/\n",
        "##参考：https://monaledge.com/article/347\n",
        "#左方の除外リスト\n",
        "exclude_left = [\"Hcash\",\"Ycash\",\"Osav\",\"Rsav\",\"Nsav\",\"Fsav\",\"Nyub\",\"Hyub\",\"Point\",\"Stock\",\"Svalu\",\"Build\",\"Land\",\"Vehi\",\"Rcard\",\"Acard\",\"Mcard\",\"Rassets\",\"Rearning\",\"Vdif\",\"MS\",\"YM\",\"SI\",\"DI\",\"CG\",\"BN\",\"OI\"]\n",
        "#~isinを使って除外する\n",
        "df = df[~df[\"LeftItem\"].isin(exclude_left)]\n",
        "\n",
        "#大科目\"Unit\"に分類\n",
        "##控除\n",
        "Deduction = (\"cded\",\"ftax\",\"ctax\")\n",
        "df.loc[df[\"LeftItem\"].isin(Deduction),\"Unit\"] = \"1.Deduction\"\n",
        "##固定費\n",
        "FixedExpenses = (\"rent\",\"tel\",\"prov\",\"nhk\",\"sch\",\"edu\",\"yins\",\"nins\",\"hins\",\"water\",\"gas\",\"elec\",\"kero\")\n",
        "df.loc[df[\"LeftItem\"].isin(FixedExpenses),\"Unit\"] = \"2.FixedExpenses\"\n",
        "##変動費\n",
        "VariableExpenses = [\"food\",\"resta\",\"health\",\"dneeds\",\"gasoline\",\"vment\",\"child\",\"culture\",\"social\",\"cloth\",\"study\",\"job\",\"hmade\",\"garden\",\"care\",\"petty\"]\n",
        "df.loc[df[\"LeftItem\"].isin(VariableExpenses),\"Unit\"] = \"3.VariableExpenses\"\n",
        "##特別支出\n",
        "ExtraordinaryExpenses = [\"scost\",\"icost\",\"closs\",\"ecost\"]\n",
        "df.loc[df[\"LeftItem\"].isin(ExtraordinaryExpenses),\"Unit\"] = \"4.ExtraordinaryExpenses\"\n",
        "#print(df_Extra)\n",
        "\n",
        "\n",
        "#print(df)\n",
        "\n",
        "#ColumnsのLeftItemをindexに指定\n",
        "#df = df.set_index(\"LeftItem\")\n",
        "\n",
        "#データフレームのcolumnsの型を確認\n",
        "#df.info()\n",
        "\n",
        "#pivot_tableを使ってインデックスのLeftItemごとの年月日の合計を出す\n",
        "df_pivot = df.pivot_table(index=[\"Unit\",\"LeftItem\"], columns=\"YearMonth\", values=[\"Amount\"],aggfunc=sum)\n",
        "#df_pivot = df.pivot_table(index=\"Date\",columns=\"LeftItem\", values=[\"Amount\"],aggfunc=sum)\n",
        "df_pivot = df_pivot[\"Amount\"].fillna(0)\n",
        "df_pivot = pd.DataFrame(df_pivot).astype(int)\n",
        "##fillna(0)をすると小数点以下がつくので、整数(int)に変換\n",
        "df2 = df_pivot\n",
        "\n",
        "#インデックスのUnitでソート\n",
        "df2 = df2.sort_index(level='Unit')\n",
        "\n",
        "#２つのインデックス、\"LeftItem\"と\"Unit\"を列に変換\n",
        "df2.reset_index(inplace= True)\n",
        "df2 = df2.rename(columns={'index': 'Items'})\n",
        "\n",
        "#print(df2)\n",
        "\n",
        "#LeftItemごとの平均値を求める\n",
        "df2[\"Average\"] = df2.iloc[:,2:].mean(axis=1).astype(int)\n",
        "\n",
        "# Averageの列を3列目に移動\n",
        "target_col = \"Average\"\n",
        "df_target = df2[target_col]\n",
        "##入れ替え対称の列を削除\n",
        "df2 = df2.drop(target_col, axis=1)\n",
        "##任意の場所に対象の列を挿入\n",
        "df2.insert(2, target_col, df_target)\n",
        "#Unit列を優先し、Average列で昇順にソート\n",
        "df2 = df2.sort_values([\"Unit\",\"Average\"], ascending=[True,False])\n",
        "\n",
        "#DataFrameを切り分け、各Unitの最終行に合計を入れ、総合計も入れる\n",
        "##控除\n",
        "df2_Deduc = df2[df2[\"Unit\"].isin([\"1.Deduction\"])]\n",
        "df2_DeducAll = pd.concat([df2_Deduc,pd.DataFrame(df2_Deduc.sum(numeric_only=True)).T])\n",
        "##固定費\n",
        "df2_Fixed = df2[df2[\"Unit\"].isin([\"2.FixedExpenses\"])]\n",
        "df2_FixedAll = pd.concat([df2_Fixed,pd.DataFrame(df2_Fixed.sum(numeric_only=True)).T])\n",
        "##変動費\n",
        "df2_Variable = df2[df2[\"Unit\"].isin([\"3.VariableExpenses\"])]\n",
        "df2_VariableAll = pd.concat([df2_Variable,pd.DataFrame(df2_Variable.sum(numeric_only=True)).T])\n",
        "##特別支出\n",
        "df2_Extra = df2[df2[\"Unit\"].isin([\"4.ExtraordinaryExpenses\"])]\n",
        "df2_ExtraAll = pd.concat([df2_Extra,pd.DataFrame(df2_Extra.sum(numeric_only=True)).T])\n",
        "##総合計のため上で作ったdf2をもってきて、合計する\n",
        "df2_sum = df2.sum(numeric_only=True)\n",
        "##合計を含んだ各Unitをつなぎ合わせる\n",
        "df2_alldata = pd.concat([df2_DeducAll,df2_FixedAll,df2_VariableAll,df2_ExtraAll],axis=0)\n",
        "###最後に総合計もつなぎ合わせ、すべてつなぎ合わせたら終わり！！！\n",
        "df2_alldata = pd.concat([df2_alldata,pd.DataFrame(df2_sum).T])\n",
        "print(df2_alldata)\n",
        "\n",
        "df_expenditure = df2_alldata\n",
        "#print(df_expenditure)\n",
        "\n",
        "#スプレッドシートに書き出し\n",
        "from gspread_dataframe import set_with_dataframe\n",
        "expenditure ='[【ここにGoogleDriveに保存されているスプレッドシート（Expenditure_Sheet）のURLを挿入する】]'\n",
        "worksheet = gc.open_by_url(expenditure).get_worksheet(0)\n",
        "set_with_dataframe(worksheet, df_expenditure)\n",
        "\n",
        "\n"
      ],
      "metadata": {
        "colab": {
          "base_uri": "https://localhost:8080/",
          "height": 356
        },
        "collapsed": true,
        "outputId": "78dbea78-9cf0-4b76-9f91-23a35f5a423b",
        "id": "mkdjhtOoM82H"
      },
      "execution_count": 1,
      "outputs": [
        {
          "output_type": "error",
          "ename": "NoValidUrlKeyFound",
          "evalue": "",
          "traceback": [
            "\u001b[0;31m---------------------------------------------------------------------------\u001b[0m",
            "\u001b[0;31mNoValidUrlKeyFound\u001b[0m                        Traceback (most recent call last)",
            "\u001b[0;32m<ipython-input-1-40a6ff9d77b8>\u001b[0m in \u001b[0;36m<cell line: 22>\u001b[0;34m()\u001b[0m\n\u001b[1;32m     20\u001b[0m \u001b[0;34m\u001b[0m\u001b[0m\n\u001b[1;32m     21\u001b[0m \u001b[0;31m#worksheetの2024_houseaccountを選ぶ　番号では(0)となる\u001b[0m\u001b[0;34m\u001b[0m\u001b[0;34m\u001b[0m\u001b[0m\n\u001b[0;32m---> 22\u001b[0;31m \u001b[0mworksheet\u001b[0m \u001b[0;34m=\u001b[0m \u001b[0mgc\u001b[0m\u001b[0;34m.\u001b[0m\u001b[0mopen_by_url\u001b[0m\u001b[0;34m(\u001b[0m\u001b[0mhouseaccount\u001b[0m\u001b[0;34m)\u001b[0m\u001b[0;34m.\u001b[0m\u001b[0mget_worksheet\u001b[0m\u001b[0;34m(\u001b[0m\u001b[0;36m0\u001b[0m\u001b[0;34m)\u001b[0m\u001b[0;34m\u001b[0m\u001b[0;34m\u001b[0m\u001b[0m\n\u001b[0m\u001b[1;32m     23\u001b[0m \u001b[0;34m\u001b[0m\u001b[0m\n\u001b[1;32m     24\u001b[0m \u001b[0;32mimport\u001b[0m \u001b[0mpandas\u001b[0m \u001b[0;32mas\u001b[0m \u001b[0mpd\u001b[0m\u001b[0;34m\u001b[0m\u001b[0;34m\u001b[0m\u001b[0m\n",
            "\u001b[0;32m/usr/local/lib/python3.10/dist-packages/gspread/client.py\u001b[0m in \u001b[0;36mopen_by_url\u001b[0;34m(self, url)\u001b[0m\n\u001b[1;32m    165\u001b[0m         \u001b[0;34m>>\u001b[0m\u001b[0;34m>\u001b[0m \u001b[0mgc\u001b[0m\u001b[0;34m.\u001b[0m\u001b[0mopen_by_url\u001b[0m\u001b[0;34m(\u001b[0m\u001b[0;34m'https://docs.google.com/spreadsheet/ccc?key=0Bm...FE&hl'\u001b[0m\u001b[0;34m)\u001b[0m\u001b[0;34m\u001b[0m\u001b[0;34m\u001b[0m\u001b[0m\n\u001b[1;32m    166\u001b[0m         \"\"\"\n\u001b[0;32m--> 167\u001b[0;31m         \u001b[0;32mreturn\u001b[0m \u001b[0mself\u001b[0m\u001b[0;34m.\u001b[0m\u001b[0mopen_by_key\u001b[0m\u001b[0;34m(\u001b[0m\u001b[0mextract_id_from_url\u001b[0m\u001b[0;34m(\u001b[0m\u001b[0murl\u001b[0m\u001b[0;34m)\u001b[0m\u001b[0;34m)\u001b[0m\u001b[0;34m\u001b[0m\u001b[0;34m\u001b[0m\u001b[0m\n\u001b[0m\u001b[1;32m    168\u001b[0m \u001b[0;34m\u001b[0m\u001b[0m\n\u001b[1;32m    169\u001b[0m     \u001b[0;32mdef\u001b[0m \u001b[0mopenall\u001b[0m\u001b[0;34m(\u001b[0m\u001b[0mself\u001b[0m\u001b[0;34m,\u001b[0m \u001b[0mtitle\u001b[0m\u001b[0;34m:\u001b[0m \u001b[0mOptional\u001b[0m\u001b[0;34m[\u001b[0m\u001b[0mstr\u001b[0m\u001b[0;34m]\u001b[0m \u001b[0;34m=\u001b[0m \u001b[0;32mNone\u001b[0m\u001b[0;34m)\u001b[0m \u001b[0;34m->\u001b[0m \u001b[0mList\u001b[0m\u001b[0;34m[\u001b[0m\u001b[0mSpreadsheet\u001b[0m\u001b[0;34m]\u001b[0m\u001b[0;34m:\u001b[0m\u001b[0;34m\u001b[0m\u001b[0;34m\u001b[0m\u001b[0m\n",
            "\u001b[0;32m/usr/local/lib/python3.10/dist-packages/gspread/utils.py\u001b[0m in \u001b[0;36mextract_id_from_url\u001b[0;34m(url)\u001b[0m\n\u001b[1;32m    559\u001b[0m         \u001b[0;32mreturn\u001b[0m \u001b[0mm1\u001b[0m\u001b[0;34m.\u001b[0m\u001b[0mgroup\u001b[0m\u001b[0;34m(\u001b[0m\u001b[0;36m1\u001b[0m\u001b[0;34m)\u001b[0m\u001b[0;34m\u001b[0m\u001b[0;34m\u001b[0m\u001b[0m\n\u001b[1;32m    560\u001b[0m \u001b[0;34m\u001b[0m\u001b[0m\n\u001b[0;32m--> 561\u001b[0;31m     \u001b[0;32mraise\u001b[0m \u001b[0mNoValidUrlKeyFound\u001b[0m\u001b[0;34m\u001b[0m\u001b[0;34m\u001b[0m\u001b[0m\n\u001b[0m\u001b[1;32m    562\u001b[0m \u001b[0;34m\u001b[0m\u001b[0m\n\u001b[1;32m    563\u001b[0m \u001b[0;34m\u001b[0m\u001b[0m\n",
            "\u001b[0;31mNoValidUrlKeyFound\u001b[0m: "
          ]
        }
      ]
    },
    {
      "cell_type": "markdown",
      "source": [
        "# 2024_Profit&Lossコード\n"
      ],
      "metadata": {
        "id": "0UMUpTyBP7-v"
      }
    },
    {
      "cell_type": "markdown",
      "source": [],
      "metadata": {
        "id": "2LpJvm45P-NZ"
      }
    }
  ]
}